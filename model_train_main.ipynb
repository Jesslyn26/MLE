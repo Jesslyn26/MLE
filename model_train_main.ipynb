{
 "cells": [
  {
   "cell_type": "code",
   "execution_count": 25,
   "id": "b50484d2-bfa4-40b6-82cd-e8bf86187cfd",
   "metadata": {},
   "outputs": [],
   "source": [
    "import os\n",
    "import glob\n",
    "import pandas as pd\n",
    "import pickle\n",
    "import matplotlib.pyplot as plt\n",
    "import numpy as np\n",
    "import random\n",
    "from datetime import datetime, timedelta\n",
    "from dateutil.relativedelta import relativedelta\n",
    "import pprint\n",
    "import pyspark\n",
    "import pyspark.sql.functions as F\n",
    "\n",
    "from pyspark.sql.functions import col\n",
    "from pyspark.sql.types import StringType, IntegerType, FloatType, DateType\n",
    "\n",
    "from sklearn.model_selection import train_test_split\n",
    "from sklearn.preprocessing import StandardScaler\n",
    "\n",
    "import xgboost as xgb\n",
    "from sklearn.model_selection import RandomizedSearchCV\n",
    "from sklearn.metrics import make_scorer, f1_score, roc_auc_score\n",
    "from sklearn.datasets import make_classification\n",
    "from sklearn.model_selection import train_test_split\n",
    "\n",
    "from sklearn.metrics import accuracy_score, recall_score, precision_score, f1_score\n",
    "from sklearn.linear_model import LogisticRegression\n",
    "from sklearn.model_selection import RandomizedSearchCV\n"
   ]
  },
  {
   "cell_type": "markdown",
   "id": "37c91bb1-bcf0-4195-90f3-dc88806ebf8c",
   "metadata": {},
   "source": [
    "## set up pyspark session"
   ]
  },
  {
   "cell_type": "code",
   "execution_count": 26,
   "id": "32fb3bc6-4166-4893-88e1-0d3140df5a92",
   "metadata": {},
   "outputs": [],
   "source": [
    "# Initialize SparkSession\n",
    "spark = pyspark.sql.SparkSession.builder \\\n",
    "    .appName(\"dev\") \\\n",
    "    .master(\"local[*]\") \\\n",
    "    .getOrCreate()\n",
    "\n",
    "# Set log level to ERROR to hide warnings\n",
    "spark.sparkContext.setLogLevel(\"ERROR\")"
   ]
  },
  {
   "cell_type": "code",
   "execution_count": 27,
   "id": "3a91ac6f",
   "metadata": {},
   "outputs": [],
   "source": [
    "def read_gold_table(table, gold_db, spark):\n",
    "    \"\"\"\n",
    "    Helper function to read all partitions of a gold table\n",
    "    \"\"\"\n",
    "    folder_path = os.path.join(gold_db, table)\n",
    "    files_list = [os.path.join(folder_path, os.path.basename(f)) for f in glob.glob(os.path.join(folder_path, '*'))]\n",
    "    df = spark.read.option(\"header\", \"true\").parquet(*files_list)\n",
    "    return df\n"
   ]
  },
  {
   "cell_type": "code",
   "execution_count": 28,
   "id": "2c4ce73f",
   "metadata": {},
   "outputs": [],
   "source": [
    "X_spark = read_gold_table('feature_store', 'datamart/gold', spark)\n",
    "y_spark = read_gold_table('label_store', 'datamart/gold', spark)"
   ]
  },
  {
   "cell_type": "code",
   "execution_count": 29,
   "id": "5a0bf8ad-3c99-47e8-a755-45a28a6b5a96",
   "metadata": {},
   "outputs": [
    {
     "name": "stderr",
     "output_type": "stream",
     "text": [
      "                                                                                "
     ]
    }
   ],
   "source": [
    "X_df = X_spark.toPandas().sort_values(by='Customer_ID')\n",
    "y_df = y_spark.toPandas().sort_values(by='Customer_ID')"
   ]
  },
  {
   "cell_type": "code",
   "execution_count": 30,
   "id": "c32c4921-1154-4cad-a9ad-6791980a2cb1",
   "metadata": {},
   "outputs": [
    {
     "name": "stdout",
     "output_type": "stream",
     "text": [
      "+-----------+--------------------+-------------------+-------------------+--------------------+-------------------+-------------------+--------------------+--------------------+-------------------+-------------------+-------------------+--------------------+--------------------+--------------------+--------------------+--------------------+--------------------+--------------------+--------------------+--------------------+-------------------------+---+------------------------+-------------+-----------------+---------------+-------------+-----------+-------------------+----------------------+--------------------+------------------------+-------------------+-----------------------+---------------+-----------------------+------------------------+-------------+------------------------+------------------------+-------------------------+--------------------+------------------------+-------------------+-----------------+------------------+--------------------+-----------------+--------------------+-------------------+-----------------------+---------------------+-----------------+-------------------+---------------------+------------------+------------------------------------------------+--------------------------------------------------+-------------------------+-------------------------------------------------+------------------------------------------------+-------------------------------------------------+-------------------------------------------------+---------------+------------------+--------------+-------------------+---------------------+----------------+------------------+----------------------------+------------------+-----------------+------------------------+--------------+------------------+\n",
      "|Customer_ID|                fe_1|               fe_2|               fe_3|                fe_4|               fe_5|               fe_6|                fe_7|                fe_8|               fe_9|              fe_10|              fe_11|               fe_12|               fe_13|               fe_14|               fe_15|               fe_16|               fe_17|               fe_18|               fe_19|               fe_20|clickstream_snapshot_date|Age|attributes_snapshot_date|Annual_Income|Num_Bank_Accounts|Num_Credit_Card|Interest_Rate|Num_of_Loan|Delay_from_due_date|Num_of_Delayed_Payment|Num_Credit_Inquiries|Credit_Utilization_Ratio|Total_EMI_per_month|Amount_invested_monthly|Monthly_Balance|financial_snapshot_date|Credit_History_Age_Years|snapshot_date|Payment_of_Min_Amount_NM|Payment_of_Min_Amount_No|Payment_of_Min_Amount_Yes|occupation_Scientist|occupation_Media_Manager|occupation_Musician|occupation_Lawyer|occupation_Teacher|occupation_Developer|occupation_Writer|occupation_Architect|occupation_Mechanic|occupation_Entrepreneur|occupation_Journalist|occupation_Doctor|occupation_Engineer|occupation_Accountant|occupation_Manager|Payment_Behaviour_Low_spent_Small_value_payments|Payment_Behaviour_High_spent_Medium_value_payments|Payment_Behaviour_Unknown|Payment_Behaviour_High_spent_Small_value_payments|Payment_Behaviour_Low_spent_Large_value_payments|Payment_Behaviour_Low_spent_Medium_value_payments|Payment_Behaviour_High_spent_Large_value_payments|Credit_Mix_Good|Credit_Mix_Unknown|Credit_Mix_Bad|Credit_Mix_Standard|Loan_Home_Equity_Loan|Loan_Payday_Loan|Loan_Personal_Loan|Loan_Debt_Consolidation_Loan|Loan_Mortgage_Loan|Loan_Student_Loan|Loan_Credit-Builder_Loan|Loan_Auto_Loan|Loan_Not_Specified|\n",
      "+-----------+--------------------+-------------------+-------------------+--------------------+-------------------+-------------------+--------------------+--------------------+-------------------+-------------------+-------------------+--------------------+--------------------+--------------------+--------------------+--------------------+--------------------+--------------------+--------------------+--------------------+-------------------------+---+------------------------+-------------+-----------------+---------------+-------------+-----------+-------------------+----------------------+--------------------+------------------------+-------------------+-----------------------+---------------+-----------------------+------------------------+-------------+------------------------+------------------------+-------------------------+--------------------+------------------------+-------------------+-----------------+------------------+--------------------+-----------------+--------------------+-------------------+-----------------------+---------------------+-----------------+-------------------+---------------------+------------------+------------------------------------------------+--------------------------------------------------+-------------------------+-------------------------------------------------+------------------------------------------------+-------------------------------------------------+-------------------------------------------------+---------------+------------------+--------------+-------------------+---------------------+----------------+------------------+----------------------------+------------------+-----------------+------------------------+--------------+------------------+\n",
      "| CUS_0x1057| -0.3124123811721802| -0.773163378238678|0.39071205258369446| -1.0241588354110718| -0.461529403924942| 1.4661701917648315|   1.820574164390564|  -0.740399181842804|-0.7410383820533752|-0.5987104773521423|0.44386640191078186|  0.4553067088127136| -0.6897207498550415|  0.7260191440582275| -0.8335644006729126|  1.4403400421142578|  0.9569987654685974|-0.19573290646076202|  -1.951709508895874| -0.5515478849411011|               2023-09-01| 33|              2023-09-01|        86617|                8|              4|            6|          3|                 16|                    21|                 4.0|               35.555542|          141.38205|               976.1639|            636|             2023-09-01|      24.916666666666668|   2023-09-01|                       0|                       1|                        0|                   0|                       0|                  0|                0|                 0|                   0|                1|                   0|                  0|                      0|                    0|                0|                  0|                    0|                 0|                                               0|                                                 0|                        1|                                                0|                                               0|                                                0|                                                0|              0|                 0|             0|                  1|                    0|               1|                 0|                           0|                 0|                1|                       0|             1|                 0|\n",
      "| CUS_0x1169|  1.1038665771484375|-0.4257138967514038| 0.5191689133644104|-0.08092900365591049|-0.3227077126502991| 2.1171340942382812|-0.21084927022457123|-0.42883381247520447|0.24320988357067108|0.19681496918201447| 0.5236780047416687| 0.11735855787992477|-0.03960614278912544|  0.5379546880722046|  0.4115051031112671|  1.0540565252304077|-0.48959141969680786| 0.34996289014816284|-0.20718449354171753|  1.1657158136367798|               2023-09-01| 34|              2023-09-01|       115324|                2|              5|            8|          4|                  9|                     6|                 3.0|               40.506397|          199.25127|               380.2486|            657|             2023-09-01|      23.916666666666668|   2023-09-01|                       0|                       1|                        0|                   0|                       0|                  0|                1|                 0|                   0|                0|                   0|                  0|                      0|                    0|                0|                  0|                    0|                 0|                                               0|                                                 0|                        0|                                                1|                                               0|                                                0|                                                0|              1|                 0|             0|                  0|                    0|               1|                 0|                           0|                 0|                1|                       1|             0|                 0|\n",
      "| CUS_0x117d| -0.4807811975479126|-1.2298113107681274| 1.2306222915649414|  -2.489175319671631| 1.6207959651947021|-1.0675814151763916| -0.8581165671348572|-0.44893479347229004|-0.7808060050010681| 1.2440890073776245|-0.2345321625471115| 0.12729820609092712| -1.8323465585708618|-0.14501631259918213|-0.24534258246421814|  0.7272012233734131| -0.5494503378868103| -0.2444557398557663| -1.0940659046173096|0.001469254842959...|               2023-09-01| 24|              2023-09-01|        70779|                1|              4|            9|          4|                 14|                    14|                 4.0|               25.856379|          131.34831|              300.60208|            414|             2023-09-01|      21.416666666666668|   2023-09-01|                       0|                       1|                        0|                   0|                       1|                  0|                0|                 0|                   0|                0|                   0|                  0|                      0|                    0|                0|                  0|                    0|                 0|                                               0|                                                 0|                        0|                                                1|                                               0|                                                0|                                                0|              1|                 0|             0|                  0|                    0|               0|                 0|                           1|                 0|                1|                       0|             0|                 1|\n",
      "| CUS_0x1182|-0.34212449193000793| 1.9071614742279053|-1.1112451553344727|  0.7719916105270386| 1.4720584154129028|-1.2478482723236084|-0.10131174325942993| -0.2780763804912567|-1.5463323593139648|-0.3872416913509369|0.13459646701812744|-0.43926194310188293|  0.7287111878395081|-0.00644249841570...| -1.7649154663085938|-0.09488938003778458|   1.186457872390747| -1.3455919027328491| -0.6554981470108032| -0.4060170650482178|               2023-09-01| 24|              2023-09-01|       176696|                5|              7|           12|          4|                  4|                     8|                 6.0|                41.77011|          1169.8091|              320.05414|           1022|             2023-09-01|      17.166666666666668|   2023-09-01|                       0|                       1|                        0|                   0|                       0|                  1|                0|                 0|                   0|                0|                   0|                  0|                      0|                    0|                0|                  0|                    0|                 0|                                               0|                                                 0|                        0|                                                0|                                               0|                                                0|                                                1|              1|                 0|             0|                  0|                    1|               1|                 0|                           1|                 0|                0|                       0|             0|                 1|\n",
      "| CUS_0x11c6|-0.34212449193000793|  -1.24966561794281|-0.6369429230690002|  0.5713043808937073|  0.956434965133667| 0.9453991055488586|  1.6911207437515259|-0.12731896340847015|-0.9697021245956421|-0.3570318818092346| 0.3740312457084656| -0.8865463137626648| -1.7929456233978271| -0.4320620894432068| -0.5590608716011047| -1.0853599309921265| 0.35840970277786255|-0.15675464272499084|  0.3288426995277405|  1.2530343532562256|               2023-09-01| 49|              2023-09-01|        16523|                1|              4|            1|          4|                  8|                     8|                 4.0|               31.799772|          52.216167|              54.266254|            325|             2023-09-01|      25.916666666666668|   2023-09-01|                       0|                       1|                        0|                   0|                       0|                  0|                0|                 0|                   0|                0|                   0|                  0|                      0|                    0|                0|                  0|                    0|                 1|                                               0|                                                 0|                        0|                                                0|                                               0|                                                1|                                                0|              1|                 0|             0|                  0|                    1|               1|                 0|                           0|                 0|                1|                       1|             0|                 0|\n",
      "+-----------+--------------------+-------------------+-------------------+--------------------+-------------------+-------------------+--------------------+--------------------+-------------------+-------------------+-------------------+--------------------+--------------------+--------------------+--------------------+--------------------+--------------------+--------------------+--------------------+--------------------+-------------------------+---+------------------------+-------------+-----------------+---------------+-------------+-----------+-------------------+----------------------+--------------------+------------------------+-------------------+-----------------------+---------------+-----------------------+------------------------+-------------+------------------------+------------------------+-------------------------+--------------------+------------------------+-------------------+-----------------+------------------+--------------------+-----------------+--------------------+-------------------+-----------------------+---------------------+-----------------+-------------------+---------------------+------------------+------------------------------------------------+--------------------------------------------------+-------------------------+-------------------------------------------------+------------------------------------------------+-------------------------------------------------+-------------------------------------------------+---------------+------------------+--------------+-------------------+---------------------+----------------+------------------+----------------------------+------------------+-----------------+------------------------+--------------+------------------+\n",
      "only showing top 5 rows\n",
      "\n",
      "+--------------------+-----------+-----+----------+-------------+\n",
      "|             loan_id|Customer_ID|label| label_def|snapshot_date|\n",
      "+--------------------+-----------+-----+----------+-------------+\n",
      "|CUS_0x1037_2023_0...| CUS_0x1037|    0|30dpd_6mob|   2023-07-01|\n",
      "|CUS_0x1069_2023_0...| CUS_0x1069|    0|30dpd_6mob|   2023-07-01|\n",
      "|CUS_0x114a_2023_0...| CUS_0x114a|    0|30dpd_6mob|   2023-07-01|\n",
      "|CUS_0x1184_2023_0...| CUS_0x1184|    0|30dpd_6mob|   2023-07-01|\n",
      "|CUS_0x1297_2023_0...| CUS_0x1297|    1|30dpd_6mob|   2023-07-01|\n",
      "+--------------------+-----------+-----+----------+-------------+\n",
      "only showing top 5 rows\n",
      "\n"
     ]
    }
   ],
   "source": [
    "X_spark.show(5)\n",
    "y_spark.show(5)"
   ]
  },
  {
   "cell_type": "markdown",
   "id": "30206071-5f00-4c3b-be13-55c54db8e336",
   "metadata": {},
   "source": [
    "## set up config"
   ]
  },
  {
   "cell_type": "code",
   "execution_count": 31,
   "id": "f0f3a464-fe45-477b-8815-cebe102228f1",
   "metadata": {},
   "outputs": [
    {
     "name": "stdout",
     "output_type": "stream",
     "text": [
      "{'model_train_date': datetime.date(2024, 9, 2),\n",
      " 'model_train_date_str': '2024-09-02',\n",
      " 'oot_end_date': datetime.date(2024, 9, 1),\n",
      " 'oot_period_months': 2,\n",
      " 'oot_start_date': datetime.date(2024, 7, 2),\n",
      " 'train_test_end_date': datetime.date(2024, 7, 1),\n",
      " 'train_test_period_months': 12,\n",
      " 'train_test_ratio': 0.8,\n",
      " 'train_test_start_date': datetime.date(2023, 7, 2)}\n"
     ]
    }
   ],
   "source": [
    "# set up config\n",
    "model_train_date_str = \"2024-09-02\"\n",
    "train_test_period_months = 12\n",
    "oot_period_months = 2\n",
    "train_test_ratio = 0.8\n",
    "\n",
    "config = {}\n",
    "config[\"model_train_date_str\"] = model_train_date_str\n",
    "config[\"train_test_period_months\"] = train_test_period_months\n",
    "config[\"oot_period_months\"] =  oot_period_months\n",
    "config[\"model_train_date\"] =  datetime.strptime(model_train_date_str, \"%Y-%m-%d\").date()\n",
    "config[\"oot_end_date\"] =  config['model_train_date'] - timedelta(days = 1)\n",
    "config[\"oot_start_date\"] =  config['model_train_date'] - relativedelta(months = oot_period_months)\n",
    "config[\"train_test_end_date\"] =  config[\"oot_start_date\"] - timedelta(days = 1)\n",
    "config[\"train_test_start_date\"] =  config[\"oot_start_date\"] - relativedelta(months = train_test_period_months)\n",
    "config[\"train_test_ratio\"] = train_test_ratio \n",
    "\n",
    "\n",
    "pprint.pprint(config)"
   ]
  },
  {
   "cell_type": "code",
   "execution_count": null,
   "id": "54345e4b",
   "metadata": {},
   "outputs": [
    {
     "name": "stdout",
     "output_type": "stream",
     "text": [
      "{'model_train_date': datetime.date(2024, 9, 2),\n",
      " 'model_train_date_str': '2024-09-02',\n",
      " 'oot_months': 2,\n",
      " 'oot_periods': [{'oot_end': datetime.date(2024, 8, 1),\n",
      "                  'oot_start': datetime.date(2024, 7, 2)},\n",
      "                 {'oot_end': datetime.date(2024, 9, 1),\n",
      "                  'oot_start': datetime.date(2024, 8, 2)}],\n",
      " 'train_test_end_date': datetime.date(2024, 7, 1),\n",
      " 'train_test_period_months': 12,\n",
      " 'train_test_ratio': 0.8,\n",
      " 'train_test_start_date': datetime.date(2023, 7, 2)}\n"
     ]
    }
   ],
   "source": [
    "# User parameters\n",
    "model_train_date_str = \"2024-09-02\"\n",
    "train_test_period_months = 12\n",
    "oot_months = 2  # Number of OOT periods (each 1 month)\n",
    "train_test_ratio = 0.8\n",
    "\n",
    "config = {}\n",
    "config[\"model_train_date_str\"] = model_train_date_str\n",
    "config[\"train_test_period_months\"] = train_test_period_months\n",
    "config[\"oot_months\"] = oot_months\n",
    "config[\"model_train_date\"] = datetime.strptime(model_train_date_str, \"%Y-%m-%d\").date()\n",
    "config[\"train_test_ratio\"] = train_test_ratio\n",
    "\n",
    "# Calculate OOT periods (each 1 month)\n",
    "oot_periods = []\n",
    "for i in range(oot_months, 0, -1):\n",
    "    oot_start = config[\"model_train_date\"] - relativedelta(months=i)\n",
    "    oot_end = (oot_start + relativedelta(months=1)) - timedelta(days=1)\n",
    "    oot_periods.append({\"oot_start\": oot_start, \"oot_end\": oot_end})\n",
    "\n",
    "config[\"oot_periods\"] = oot_periods\n",
    "\n",
    "# Train/Test period: before first OOT period, for specified months\n",
    "config[\"train_test_end_date\"] = oot_periods[0][\"oot_start\"] - timedelta(days=1)\n",
    "config[\"train_test_start_date\"] = oot_periods[0][\"oot_start\"] - relativedelta(months=train_test_period_months)\n",
    "\n",
    "pprint.pprint(config)"
   ]
  },
  {
   "cell_type": "markdown",
   "id": "a2e6ada0-efa8-406a-895c-30a86c2d9565",
   "metadata": {},
   "source": [
    "## prepare data for modeling"
   ]
  },
  {
   "cell_type": "code",
   "execution_count": 33,
   "id": "f91d796e-cc20-47aa-a9ec-4df35d9558ef",
   "metadata": {},
   "outputs": [],
   "source": [
    "# Filter y for the modeling window\n",
    "y_model_df = y_df[\n",
    "    (y_df['snapshot_date'] >= config['train_test_start_date']) &\n",
    "    (y_df['snapshot_date'] <= config['model_train_date'])\n",
    "]\n",
    "\n",
    "# Filter X for Customer_IDs present in y_model_df\n",
    "X_model_df = X_df[X_df['Customer_ID'].isin(y_model_df['Customer_ID'].unique())]\n",
    "\n",
    "# Create OOT splits (for each OOT period)\n",
    "oot_splits = []\n",
    "for oot in config[\"oot_periods\"]:\n",
    "    y_oot = y_model_df[\n",
    "        (y_model_df['snapshot_date'] >= oot['oot_start']) &\n",
    "        (y_model_df['snapshot_date'] <= oot['oot_end'])\n",
    "    ]\n",
    "    X_oot = X_model_df[X_model_df['Customer_ID'].isin(y_oot['Customer_ID'].unique())]\n",
    "    oot_splits.append((X_oot, y_oot))\n",
    "\n",
    "# Everything else goes into train-test (before the first OOT period)\n",
    "y_traintest = y_model_df[y_model_df['snapshot_date'] <= config['train_test_end_date']]\n",
    "X_traintest = X_model_df[X_model_df['Customer_ID'].isin(y_traintest['Customer_ID'].unique())]"
   ]
  },
  {
   "cell_type": "code",
   "execution_count": 34,
   "id": "762c6bd0-482b-4f2c-8f44-cf79781b39c5",
   "metadata": {},
   "outputs": [
    {
     "name": "stdout",
     "output_type": "stream",
     "text": [
      "(5913, 77) (5913, 5)\n"
     ]
    }
   ],
   "source": [
    "# After filtering y_traintest, get the Customer_IDs\n",
    "traintest_ids = y_traintest['Customer_ID'].unique()\n",
    "# Filter X_traintest to only those IDs\n",
    "X_traintest = X_traintest[X_traintest['Customer_ID'].isin(traintest_ids)]\n",
    "\n",
    "X_traintest = X_traintest.sort_values(['Customer_ID', 'snapshot_date']).reset_index(drop=True)\n",
    "y_traintest = y_traintest.sort_values(['Customer_ID', 'snapshot_date']).reset_index(drop=True)\n",
    "\n",
    "print(X_traintest.shape, y_traintest.shape)"
   ]
  },
  {
   "cell_type": "code",
   "execution_count": 38,
   "id": "3a0753d8-35ca-4ec4-919d-65e6f8173d53",
   "metadata": {},
   "outputs": [],
   "source": [
    "X_train, X_test, y_train, y_test = train_test_split(\n",
    "    X_traintest,\n",
    "    y_traintest['label'],  # Only the label column!\n",
    "    test_size=config['train_test_ratio'],\n",
    "    random_state=611,\n",
    "    shuffle=True,\n",
    "    stratify=y_traintest['label']\n",
    ")"
   ]
  },
  {
   "cell_type": "code",
   "execution_count": 39,
   "id": "b6f678a2-57b5-4ec1-a9fe-923c0f7ad45c",
   "metadata": {},
   "outputs": [],
   "source": [
    "drop_cols = ['Customer_ID', 'clickstream_snapshot_date', 'attributes_snapshot_date', 'financial_snapshot_date', 'snapshot_date']\n",
    "\n",
    "X_train_arr = X_train.drop(columns=drop_cols, errors='ignore').values\n",
    "X_test_arr = X_test.drop(columns=drop_cols, errors='ignore').values\n",
    "\n",
    "# For multiple OOT splits (assuming oot_splits is a list of (X_oot, y_oot))\n",
    "X_oot_arrs = [X_oot.drop(columns=drop_cols, errors='ignore').values for X_oot, _ in oot_splits]\n",
    "y_oot_arrs = [y_oot['label'].values if 'label' in y_oot.columns else y_oot.values for _, y_oot in oot_splits]"
   ]
  },
  {
   "cell_type": "markdown",
   "id": "14784ef3-512e-475b-8c56-e1238d305814",
   "metadata": {},
   "source": [
    "## Train data"
   ]
  },
  {
   "cell_type": "markdown",
   "id": "90383aa5-78a6-46dd-aade-a1244adeafd0",
   "metadata": {},
   "source": [
    "## train model"
   ]
  },
  {
   "cell_type": "code",
   "execution_count": 40,
   "id": "282462a8",
   "metadata": {},
   "outputs": [
    {
     "name": "stdout",
     "output_type": "stream",
     "text": [
      "X_train_processed 1182\n",
      "X_test_processed 4731\n",
      "X_oot_processed_1 518\n",
      "X_oot_processed_2 511\n"
     ]
    }
   ],
   "source": [
    "# Drop non-numeric columns before scaling\n",
    "non_feature_cols = [\n",
    "    'Customer_ID',\n",
    "    'clickstream_snapshot_date',\n",
    "    'attributes_snapshot_date',\n",
    "    'financial_snapshot_date',\n",
    "    'snapshot_date'\n",
    "]\n",
    "\n",
    "X_train_num = X_train.drop(columns=non_feature_cols, errors='ignore')\n",
    "X_test_num = X_test.drop(columns=non_feature_cols, errors='ignore')\n",
    "\n",
    "# For multiple OOT splits\n",
    "X_oot_nums = [X_oot.drop(columns=non_feature_cols, errors='ignore') for X_oot, _ in oot_splits]\n",
    "\n",
    "# Fit scaler on numeric data\n",
    "scaler = StandardScaler()\n",
    "transformer_stdscaler = scaler.fit(X_train_num)\n",
    "\n",
    "# Transform data\n",
    "X_train_processed = transformer_stdscaler.transform(X_train_num)\n",
    "X_test_processed = transformer_stdscaler.transform(X_test_num)\n",
    "X_oot_processeds = [transformer_stdscaler.transform(X_oot_num) for X_oot_num in X_oot_nums]\n",
    "\n",
    "print('X_train_processed', X_train_processed.shape[0])\n",
    "print('X_test_processed', X_test_processed.shape[0])\n",
    "for idx, X_oot_processed in enumerate(X_oot_processeds, 1):\n",
    "    print(f'X_oot_processed_{idx}', X_oot_processed.shape[0])"
   ]
  },
  {
   "cell_type": "code",
   "execution_count": 41,
   "id": "9b5ac962-0d8c-4d8c-8f06-ab4b43cf0dd6",
   "metadata": {},
   "outputs": [
    {
     "name": "stdout",
     "output_type": "stream",
     "text": [
      "Fitting 3 folds for each of 100 candidates, totalling 300 fits\n",
      "Best parameters found:  {'subsample': 0.6, 'scale_pos_weight': 2, 'reg_lambda': 1, 'reg_alpha': 0, 'n_estimators': 50, 'min_child_weight': 5, 'max_depth': 2, 'max_delta_step': 1, 'learning_rate': 0.01, 'gamma': 0, 'colsample_bytree': 0.6, 'base_score': 0.5}\n",
      "Best AUC score:  0.7393188817395008\n",
      "Train AUC score:  0.7956336408760761\n",
      "TRAIN GINI score:  0.591\n",
      "Test AUC score:  0.7505652953939315\n",
      "Test GINI score:  0.501\n",
      "OOT1 AUC score: 0.7355281735335644\n",
      "OOT1 GINI score: 0.471\n",
      "OOT2 AUC score: 0.7398479800083297\n",
      "OOT2 GINI score: 0.48\n"
     ]
    }
   ],
   "source": [
    "# Define the XGBoost classifier\n",
    "xgb_clf = xgb.XGBClassifier(eval_metric='logloss', random_state=88)\n",
    "\n",
    "# Define the hyperparameter space to search\n",
    "param_dist = {\n",
    "    'n_estimators': [25, 50],\n",
    "    'max_depth': [2, 3],\n",
    "    'learning_rate': [0.01, 0.1],\n",
    "    'subsample': [0.6, 0.8],\n",
    "    'colsample_bytree': [0.6, 0.8],\n",
    "    'gamma': [0, 0.1],\n",
    "    'min_child_weight': [1, 3, 5],\n",
    "    'reg_alpha': [0, 0.1, 1],\n",
    "    'reg_lambda': [1, 1.5, 2],\n",
    "    'scale_pos_weight': [1, 2, 5, 10],        \n",
    "    'max_delta_step': [0, 1, 5],              \n",
    "    'base_score': [0.3, 0.5, 0.7], \n",
    "}\n",
    "\n",
    "# Create a scorer based on AUC score\n",
    "auc_scorer = make_scorer(roc_auc_score)\n",
    "\n",
    "# Set up the random search with cross-validation\n",
    "random_search = RandomizedSearchCV(\n",
    "    estimator=xgb_clf,\n",
    "    param_distributions=param_dist,\n",
    "    scoring=auc_scorer,\n",
    "    n_iter=100,\n",
    "    cv=3,\n",
    "    verbose=1,\n",
    "    random_state=42,\n",
    "    n_jobs=-1\n",
    ")\n",
    "\n",
    "# Perform the random search\n",
    "random_search.fit(X_train_processed, y_train)\n",
    "\n",
    "# Output the best parameters and best score\n",
    "print(\"Best parameters found: \", random_search.best_params_)\n",
    "print(\"Best AUC score: \", random_search.best_score_)\n",
    "\n",
    "# Evaluate the model on the train set\n",
    "best_model = random_search.best_estimator_\n",
    "y_pred_proba = best_model.predict_proba(X_train_processed)[:, 1]\n",
    "train_auc_score = roc_auc_score(y_train, y_pred_proba)\n",
    "print(\"Train AUC score: \", train_auc_score)\n",
    "print(\"TRAIN GINI score: \", round(2*train_auc_score-1,3))\n",
    "\n",
    "# Evaluate the model on the test set\n",
    "y_pred_proba = best_model.predict_proba(X_test_processed)[:, 1]\n",
    "test_auc_score = roc_auc_score(y_test, y_pred_proba)\n",
    "print(\"Test AUC score: \", test_auc_score)\n",
    "print(\"Test GINI score: \", round(2*test_auc_score-1,3))\n",
    "\n",
    "# Evaluate the model on all OOT splits\n",
    "oot_auc_scores = []\n",
    "for idx, (X_oot_processed, y_oot) in enumerate(zip(X_oot_processeds, y_oot_arrs), 1):\n",
    "    y_pred_proba = best_model.predict_proba(X_oot_processed)[:, 1]\n",
    "    auc = roc_auc_score(y_oot, y_pred_proba)\n",
    "    oot_auc_scores.append(auc)\n",
    "    print(f\"OOT{idx} AUC score: {auc}\")\n",
    "    print(f\"OOT{idx} GINI score: {round(2*auc-1,3)}\")"
   ]
  },
  {
   "cell_type": "code",
   "execution_count": 42,
   "id": "51a720c7-df26-41be-935e-06904983c6fd",
   "metadata": {},
   "outputs": [
    {
     "name": "stdout",
     "output_type": "stream",
     "text": [
      "{'data_dates': {'model_train_date': datetime.date(2024, 9, 2),\n",
      "                'model_train_date_str': '2024-09-02',\n",
      "                'oot_months': 2,\n",
      "                'oot_periods': [{'oot_end': datetime.date(2024, 8, 1),\n",
      "                                 'oot_start': datetime.date(2024, 7, 2)},\n",
      "                                {'oot_end': datetime.date(2024, 9, 1),\n",
      "                                 'oot_start': datetime.date(2024, 8, 2)}],\n",
      "                'train_test_end_date': datetime.date(2024, 7, 1),\n",
      "                'train_test_period_months': 12,\n",
      "                'train_test_ratio': 0.8,\n",
      "                'train_test_start_date': datetime.date(2023, 7, 2)},\n",
      " 'data_stats': {'X_oot': [518, 511],\n",
      "                'X_test': 4731,\n",
      "                'X_train': 1182,\n",
      "                'y_oot': [0.28, 0.33],\n",
      "                'y_test': 0.29,\n",
      "                'y_train': 0.29},\n",
      " 'hp_params': {'base_score': 0.5,\n",
      "               'colsample_bytree': 0.6,\n",
      "               'gamma': 0,\n",
      "               'learning_rate': 0.01,\n",
      "               'max_delta_step': 1,\n",
      "               'max_depth': 2,\n",
      "               'min_child_weight': 5,\n",
      "               'n_estimators': 50,\n",
      "               'reg_alpha': 0,\n",
      "               'reg_lambda': 1,\n",
      "               'scale_pos_weight': 2,\n",
      "               'subsample': 0.6},\n",
      " 'model': XGBClassifier(base_score=0.5, booster=None, callbacks=None,\n",
      "              colsample_bylevel=None, colsample_bynode=None,\n",
      "              colsample_bytree=0.6, device=None, early_stopping_rounds=None,\n",
      "              enable_categorical=False, eval_metric='logloss',\n",
      "              feature_types=None, feature_weights=None, gamma=0,\n",
      "              grow_policy=None, importance_type=None,\n",
      "              interaction_constraints=None, learning_rate=0.01, max_bin=None,\n",
      "              max_cat_threshold=None, max_cat_to_onehot=None, max_delta_step=1,\n",
      "              max_depth=2, max_leaves=None, min_child_weight=5, missing=nan,\n",
      "              monotone_constraints=None, multi_strategy=None, n_estimators=50,\n",
      "              n_jobs=None, num_parallel_tree=None, ...),\n",
      " 'model_version': 'credit_model_2024_09_02',\n",
      " 'preprocessing_transformers': {'stdscaler': StandardScaler()},\n",
      " 'results': {'auc_oot': [0.7355281735335644, 0.7398479800083297],\n",
      "             'auc_test': 0.7505652953939315,\n",
      "             'auc_train': 0.7956336408760761,\n",
      "             'gini_oot': [0.471, 0.48],\n",
      "             'gini_test': 0.501,\n",
      "             'gini_train': 0.591}}\n"
     ]
    }
   ],
   "source": [
    "model_artefact = {}\n",
    "\n",
    "model_artefact['model'] = best_model\n",
    "model_artefact['model_version'] = \"credit_model_\" + config[\"model_train_date_str\"].replace('-', '_')\n",
    "model_artefact['preprocessing_transformers'] = {'stdscaler': scaler}\n",
    "model_artefact['data_dates'] = config\n",
    "model_artefact['data_stats'] = {\n",
    "    'X_train': X_train.shape[0],\n",
    "    'X_test': X_test.shape[0],\n",
    "    'y_train': round(y_train.mean(), 2),\n",
    "    'y_test': round(y_test.mean(), 2),\n",
    "    'X_oot': [X_oot.shape[0] for X_oot in X_oot_arrs],\n",
    "    'y_oot': [round(y_oot.mean(), 2) for y_oot in y_oot_arrs]\n",
    "}\n",
    "model_artefact['results'] = {\n",
    "    'auc_train': train_auc_score,\n",
    "    'auc_test': test_auc_score,\n",
    "    'auc_oot': oot_auc_scores,  # list of AUCs for each OOT\n",
    "    'gini_train': round(2 * train_auc_score - 1, 3),\n",
    "    'gini_test': round(2 * test_auc_score - 1, 3),\n",
    "    'gini_oot': [round(2 * auc - 1, 3) for auc in oot_auc_scores]\n",
    "}\n",
    "model_artefact['hp_params'] = random_search.best_params_\n",
    "\n",
    "pprint.pprint(model_artefact)"
   ]
  },
  {
   "cell_type": "code",
   "execution_count": null,
   "id": "dbc267d2-1736-43a2-8e7e-33fdfeaae950",
   "metadata": {},
   "outputs": [],
   "source": [
    "# Define the XGBoost classifier\n",
    "# xgb_clf = xgb.XGBClassifier(eval_metric='logloss', random_state=88)\n",
    "\n",
    "# # Define the hyperparameter space to search\n",
    "# param_dist = {\n",
    "#     'n_estimators': [25, 50],\n",
    "#     'max_depth': [2, 3],\n",
    "#     'learning_rate': [0.01, 0.1],\n",
    "#     'subsample': [0.6, 0.8],\n",
    "#     'colsample_bytree': [0.6, 0.8],\n",
    "#     'gamma': [0, 0.1],\n",
    "#     'min_child_weight': [1, 3, 5],\n",
    "#     'reg_alpha': [0, 0.1, 1],\n",
    "#     'reg_lambda': [1, 1.5, 2],\n",
    "#     'scale_pos_weight': [1, 2, 5, 10],        \n",
    "#     'max_delta_step': [0, 1, 5],              \n",
    "#     'base_score': [0.3, 0.5, 0.7], \n",
    "# }\n",
    "\n",
    "# # Create a scorer based on AUC score\n",
    "# auc_scorer = make_scorer(roc_auc_score)\n",
    "\n",
    "# # Set up the random search with cross-validation\n",
    "# random_search = RandomizedSearchCV(\n",
    "#     estimator=xgb_clf,\n",
    "#     param_distributions=param_dist,\n",
    "#     scoring=auc_scorer,\n",
    "#     n_iter=100,  # Number of iterations for random search\n",
    "#     cv=3,       # Number of folds in cross-validation\n",
    "#     verbose=1,\n",
    "#     random_state=42,\n",
    "#     n_jobs=-1   # Use all available cores\n",
    "# )\n",
    "\n",
    "# # Perform the random search\n",
    "# random_search.fit(X_train_processed, y_train)\n",
    "\n",
    "# # Output the best parameters and best score\n",
    "# print(\"Best parameters found: \", random_search.best_params_)\n",
    "# print(\"Best AUC score: \", random_search.best_score_)\n",
    "\n",
    "# # Evaluate the model on the train set\n",
    "# best_model = random_search.best_estimator_\n",
    "# y_pred_proba = best_model.predict_proba(X_train_processed)[:, 1]\n",
    "# train_auc_score = roc_auc_score(y_train, y_pred_proba)\n",
    "# print(\"Train AUC score: \", train_auc_score)\n",
    "\n",
    "# # Evaluate the model on the test set\n",
    "# best_model = random_search.best_estimator_\n",
    "# y_pred_proba = best_model.predict_proba(X_test_processed)[:, 1]\n",
    "# test_auc_score = roc_auc_score(y_test, y_pred_proba)\n",
    "# print(\"Test AUC score: \", test_auc_score)\n",
    "\n",
    "# # Evaluate the model on the oot set\n",
    "# best_model = random_search.best_estimator_\n",
    "# y_pred_proba = best_model.predict_proba(X_oot_processed)[:, 1]\n",
    "# oot_auc_score = roc_auc_score(y_oot['label'], y_pred_proba) \n",
    "# print(\"OOT AUC score: \", oot_auc_score)\n",
    "\n",
    "# print(\"TRAIN GINI score: \", round(2*train_auc_score-1,3))\n",
    "# print(\"Test GINI score: \", round(2*test_auc_score-1,3))\n",
    "# print(\"OOT GINI score: \", round(2*oot_auc_score-1,3))"
   ]
  },
  {
   "cell_type": "code",
   "execution_count": 48,
   "id": "c39ec58c-c1c7-4587-a54e-a43dd22be852",
   "metadata": {},
   "outputs": [],
   "source": [
    "# model_artefact = {}\n",
    "\n",
    "# model_artefact['model'] = best_model\n",
    "# model_artefact['model_version'] = \"credit_model_\" + config[\"model_train_date_str\"].replace('-', '_')\n",
    "# model_artefact['preprocessing_transformers'] = {}  \n",
    "# model_artefact['preprocessing_transformers']['stdscaler'] = scaler\n",
    "# model_artefact['data_dates'] = config\n",
    "# model_artefact['data_stats'] = {}\n",
    "# model_artefact['data_stats']['X_train'] = X_train.shape[0]\n",
    "# model_artefact['data_stats']['X_test'] = X_test.shape[0]\n",
    "# model_artefact['data_stats']['X_oot'] = X_oot.shape[0]\n",
    "# model_artefact['data_stats']['y_train'] = round(y_train.mean(), 2)\n",
    "# model_artefact['data_stats']['y_test'] = round(y_test.mean(), 2)\n",
    "# model_artefact['data_stats']['y_oot'] = round(y_oot['label'].mean(), 2)\n",
    "# model_artefact['results'] = {}\n",
    "# model_artefact['results']['auc_train'] = train_auc_score\n",
    "# model_artefact['results']['auc_test'] = test_auc_score\n",
    "# model_artefact['results']['auc_oot'] = oot_auc_score\n",
    "# model_artefact['results']['accuracy_train'] = train_accuracy\n",
    "# model_artefact['results']['accuracy_test'] = test_accuracy\n",
    "# model_artefact['results']['accuracy_oot'] = oot_accuracy\n",
    "# model_artefact['hp_params'] = random_search.best_params_\n",
    "\n",
    "# pprint.pprint(model_artefact)"
   ]
  },
  {
   "cell_type": "markdown",
   "id": "846548ca-a1bb-4625-854e-ac39068f3821",
   "metadata": {},
   "source": [
    "## prepare model artefact to save"
   ]
  },
  {
   "cell_type": "markdown",
   "id": "0ea194e4-669d-43a6-b31f-ef14f0d188aa",
   "metadata": {},
   "source": [
    "## save artefact to model bank"
   ]
  },
  {
   "cell_type": "code",
   "execution_count": 43,
   "id": "54ff1665-3eef-4b13-8c78-3cfe19fd1f56",
   "metadata": {},
   "outputs": [],
   "source": [
    "# create model_bank dir\n",
    "model_bank_directory = \"model_bank/\"\n",
    "\n",
    "if not os.path.exists(model_bank_directory):\n",
    "    os.makedirs(model_bank_directory)"
   ]
  },
  {
   "cell_type": "code",
   "execution_count": 44,
   "id": "7aebf078-449b-4e6c-81fa-496d901e97dc",
   "metadata": {},
   "outputs": [
    {
     "name": "stdout",
     "output_type": "stream",
     "text": [
      "Model saved to model_bank/credit_model_2024_09_02.pkl\n"
     ]
    }
   ],
   "source": [
    "# Full path to the file\n",
    "file_path = os.path.join(model_bank_directory, model_artefact['model_version'] + '.pkl')\n",
    "\n",
    "# Write the model to a pickle file\n",
    "with open(file_path, 'wb') as file:\n",
    "    pickle.dump(model_artefact, file)\n",
    "\n",
    "print(f\"Model saved to {file_path}\")\n"
   ]
  },
  {
   "cell_type": "markdown",
   "id": "1c91f891-d285-46ef-8901-d19ec702176b",
   "metadata": {},
   "source": [
    "## test load pickle and make model inference"
   ]
  },
  {
   "cell_type": "code",
   "execution_count": 47,
   "id": "36f1da5b-0766-4ac5-b643-115daad8e80d",
   "metadata": {},
   "outputs": [
    {
     "name": "stdout",
     "output_type": "stream",
     "text": [
      "Last OOT AUC score: 0.6513742963492675\n"
     ]
    }
   ],
   "source": [
    "# Load the model from the pickle file\n",
    "with open(file_path, 'rb') as file:\n",
    "    loaded_model_artefact = pickle.load(file)\n",
    "\n",
    "# Take the last OOT split\n",
    "X_oot_last = X_oot_arrs[0]\n",
    "y_oot_last = y_oot_arrs[0]\n",
    "\n",
    "# Predict probabilities on the last OOT set\n",
    "y_pred_proba = loaded_model_artefact['model'].predict_proba(X_oot_last)[:, 1]\n",
    "\n",
    "# If y_oot_last is an array of true labels\n",
    "oot_auc_score = roc_auc_score(y_oot_last, y_pred_proba)\n",
    "print(\"Last OOT AUC score:\", oot_auc_score)"
   ]
  },
  {
   "cell_type": "code",
   "execution_count": null,
   "id": "49cccc23-5183-4bc6-87d4-bfd3628103a4",
   "metadata": {},
   "outputs": [],
   "source": []
  }
 ],
 "metadata": {
  "kernelspec": {
   "display_name": "Python 3 (ipykernel)",
   "language": "python",
   "name": "python3"
  },
  "language_info": {
   "codemirror_mode": {
    "name": "ipython",
    "version": 3
   },
   "file_extension": ".py",
   "mimetype": "text/x-python",
   "name": "python",
   "nbconvert_exporter": "python",
   "pygments_lexer": "ipython3",
   "version": "3.11.13"
  }
 },
 "nbformat": 4,
 "nbformat_minor": 5
}
